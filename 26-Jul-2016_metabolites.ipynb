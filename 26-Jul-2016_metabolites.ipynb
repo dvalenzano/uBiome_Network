{
 "cells": [
  {
   "cell_type": "code",
   "execution_count": 1,
   "metadata": {
    "collapsed": false
   },
   "outputs": [],
   "source": [
    "import numpy as np\n",
    "import matplotlib\n",
    "%matplotlib inline\n",
    "import matplotlib.pyplot as plt"
   ]
  },
  {
   "cell_type": "code",
   "execution_count": 6,
   "metadata": {
    "collapsed": true
   },
   "outputs": [],
   "source": [
    "met0 = open('../data/metabolome_2.txt', 'rU').read() #this table contains only the already characterized metabolites\n",
    "keys = open('../data/sample_key_microbiota_rnaseq_metabolomics.csv', 'rU').read()"
   ]
  },
  {
   "cell_type": "code",
   "execution_count": 3,
   "metadata": {
    "collapsed": false
   },
   "outputs": [],
   "source": [
    "kkeys = [i.split(',')[4] for i in keys.split('\\n')[1:] if i.split(',')[4] != '-']\n",
    "kvalues = [i.split(',')[1] for i in keys.split('\\n')[1:] if i.split(',')[4] != '-']\n",
    "kdict = dict(zip(kkeys, kvalues))"
   ]
  },
  {
   "cell_type": "code",
   "execution_count": 4,
   "metadata": {
    "collapsed": false
   },
   "outputs": [
    {
     "data": {
      "text/plain": [
       "32"
      ]
     },
     "execution_count": 4,
     "metadata": {},
     "output_type": "execute_result"
    }
   ],
   "source": [
    "met0.split('\\n')[0].split('\\t').index('A1')"
   ]
  },
  {
   "cell_type": "code",
   "execution_count": 5,
   "metadata": {
    "collapsed": false
   },
   "outputs": [],
   "source": [
    "met1 = [[i.split('\\t')[5]]+i.split('\\t')[32:] for i in met0.split('\\n')]"
   ]
  },
  {
   "cell_type": "markdown",
   "metadata": {},
   "source": [
    "Now, for each row, I need to generate an array with all the values relative to each group, and then, for each row,  \n",
    "a list of arrays called 'data'"
   ]
  },
  {
   "cell_type": "code",
   "execution_count": 115,
   "metadata": {
    "collapsed": false
   },
   "outputs": [],
   "source": [
    "wk6 = [met1[0].index(i) for i in met1[0][1:] if kdict[i] == '6wk']\n",
    "wk10 = [met1[0].index(i) for i in met1[0][1:] if kdict[i] == '10wk']\n",
    "wk16 = [met1[0].index(i) for i in met1[0][1:] if kdict[i] == '16wk']\n",
    "smt10 = [met1[0].index(i) for i in met1[0][1:] if kdict[i] == 'smt_10wk']\n",
    "smt16 = [met1[0].index(i) for i in met1[0][1:] if kdict[i] == 'smt_16wk']\n",
    "ymt10 = [met1[0].index(i) for i in met1[0][1:] if kdict[i] == 'ymt_10wk']\n",
    "ymt16 = [met1[0].index(i) for i in met1[0][1:] if kdict[i] == 'ymt_16wk']"
   ]
  },
  {
   "cell_type": "code",
   "execution_count": 116,
   "metadata": {
    "collapsed": false
   },
   "outputs": [],
   "source": [
    "wk6_ = np.array([int(met1[1][i]) for i in wk6 ])\n",
    "wk10_ = np.array([int(met1[1][i]) for i in wk10 ])\n",
    "wk16_ = np.array([int(met1[1][i]) for i in wk16 ])\n",
    "smt10_ = np.array([int(met1[1][i]) for i in smt10 ])\n",
    "smt16_ = np.array([int(met1[1][i]) for i in smt16 ])\n",
    "ymt10_ = np.array([int(met1[1][i]) for i in ymt10 ])\n",
    "ymt16_ = np.array([int(met1[1][i]) for i in ymt16 ])"
   ]
  },
  {
   "cell_type": "code",
   "execution_count": 117,
   "metadata": {
    "collapsed": false
   },
   "outputs": [],
   "source": [
    "data = map(np.log, [wk6_, wk10_, wk16_, ymt10_, ymt16_, smt10_, smt16_])"
   ]
  },
  {
   "cell_type": "code",
   "execution_count": 118,
   "metadata": {
    "collapsed": false
   },
   "outputs": [
    {
     "data": {
      "image/png": "[encoded data removed]",
      "text/plain": [
       "<matplotlib.figure.Figure at 0x7f200efd6e10>"
      ]
     },
     "metadata": {},
     "output_type": "display_data"
    }
   ],
   "source": [
    "plt.boxplot(data) \n",
    "plt.ylim(0,25)\n",
    "plt.title(met1[1][0])\n",
    "\n",
    "plt.xticks([1, 2, 3, 4, 5, 6, 7, 8], ['wk6', 'wk10', 'wk16', 'ymt10', 'ymt16', 'smt10', 'smt16'])\n",
    "plt.ylabel('log(' + met1[1][0]+' Abundance)')\n",
    "\n",
    "for i in [1,2,3,4,5,6,7]:\n",
    "    y = data[i-1]\n",
    "    x = np.random.normal(i, 0.02, len(y))\n",
    "    plt.plot(x, y, 'r.', alpha=0.5)"
   ]
  },
  {
   "cell_type": "code",
   "execution_count": 380,
   "metadata": {
    "collapsed": true
   },
   "outputs": [],
   "source": [
    "def plotit(j,up):\n",
    "    wk6 = [met1[0].index(i) for i in met1[0][1:] if kdict[i] == '6wk']\n",
    "    wk10 = [met1[0].index(i) for i in met1[0][1:] if kdict[i] == '10wk']\n",
    "    wk16 = [met1[0].index(i) for i in met1[0][1:] if kdict[i] == '16wk']\n",
    "    smt10 = [met1[0].index(i) for i in met1[0][1:] if kdict[i] == 'smt_10wk']\n",
    "    smt16 = [met1[0].index(i) for i in met1[0][1:] if kdict[i] == 'smt_16wk']\n",
    "    ymt10 = [met1[0].index(i) for i in met1[0][1:] if kdict[i] == 'ymt_10wk']\n",
    "    ymt16 = [met1[0].index(i) for i in met1[0][1:] if kdict[i] == 'ymt_16wk']\n",
    "\n",
    "    wk6_ = np.array([int(met1[j][i]) for i in wk6 ])\n",
    "    wk10_ = np.array([int(met1[j][i]) for i in wk10 ])\n",
    "    wk16_ = np.array([int(met1[j][i]) for i in wk16 ])\n",
    "    smt10_ = np.array([int(met1[j][i]) for i in smt10 ])\n",
    "    smt16_ = np.array([int(met1[j][i]) for i in smt16 ])\n",
    "    ymt10_ = np.array([int(met1[j][i]) for i in ymt10 ])\n",
    "    ymt16_ = np.array([int(met1[j][i]) for i in ymt16 ])\n",
    "\n",
    "    data = [wk6_, wk10_, wk16_, ymt10_, ymt16_, smt10_, smt16_]\n",
    "    data_log = map(np.log, [wk6_, wk10_, wk16_, ymt10_, ymt16_, smt10_, smt16_])\n",
    "    data_min = [wk6_, ymt16_, wk16_, smt16_]\n",
    "    data_min_log = map(np.log, data_min)\n",
    "\n",
    "    plt.figure(figsize=(15,8))\n",
    "\n",
    "    plt.subplot(2,2,1)\n",
    "    plt.boxplot(data) \n",
    "    plt.ylim(0,up)\n",
    "    plt.title(met1[j][0])\n",
    "    plt.subplots_adjust(top=1.0, hspace=0.3, wspace=0.2)\n",
    "\n",
    "    plt.xticks([1, 2, 3, 4, 5, 6, 7, 8], ['wk6', 'wk10', 'wk16', 'ymt10', 'ymt16', 'smt10', 'smt16'])\n",
    "    plt.ylabel(met1[j][0]+' Abundance')\n",
    "\n",
    "    for i in [1,2,3,4,5,6,7]:\n",
    "        y = data[i-1]\n",
    "        x = np.random.normal(i, 0.02, len(y))\n",
    "        plt.plot(x, y, 'r.', alpha=0.5)\n",
    "\n",
    "\n",
    "    plt.subplot(2,2,2)\n",
    "    plt.boxplot(data_log) \n",
    "    plt.ylim(10,22)\n",
    "    plt.title(met1[j][0])\n",
    "    plt.subplots_adjust(top=1.0, hspace=0.3, wspace=0.2)\n",
    "\n",
    "    plt.xticks([1, 2, 3, 4, 5, 6, 7, 8], ['wk6', 'wk10', 'wk16', 'ymt10', 'ymt16', 'smt10', 'smt16'])\n",
    "    plt.ylabel('log(' + met1[j][0]+' Abundance)')\n",
    "\n",
    "    for i in [1,2,3,4,5,6,7]:\n",
    "        y = data[i-1]\n",
    "        x = np.random.normal(i, 0.02, len(y))\n",
    "        plt.plot(x, y, 'r.', alpha=0.5)\n",
    "\n",
    "    plt.subplot(2,2,3)\n",
    "    plt.boxplot(data_min) \n",
    "    plt.ylim(0,up)\n",
    "    plt.title(met1[j][0])\n",
    "    plt.subplots_adjust(top=1.0, hspace=0.3, wspace=0.2)\n",
    "\n",
    "    plt.xticks([1, 2, 3, 4, 5], ['wk6', 'ymt16', 'wk16', 'smt16'])\n",
    "    plt.ylabel(met1[j][0]+' Abundance')\n",
    "\n",
    "    for i in [1,2,3,4]:\n",
    "        y = data[i-1]\n",
    "        x = np.random.normal(i, 0.02, len(y))\n",
    "        plt.plot(x, y, 'r.', alpha=0.5)\n",
    "\n",
    "\n",
    "    plt.subplot(2,2,4)\n",
    "    plt.boxplot(data_min_log) \n",
    "    plt.ylim(10,22)\n",
    "    plt.title(met1[j][0])\n",
    "    plt.subplots_adjust(top=1.0, hspace=0.3, wspace=0.2)\n",
    "\n",
    "    plt.xticks([1, 2, 3, 4, 5], ['wk6', 'ymt16', 'wk16', 'smt16'])\n",
    "    plt.ylabel('log(' + met1[j][0]+' Abundance)')\n",
    "\n",
    "    for i in [1,2,3,4]:\n",
    "        y = data[i-1]\n",
    "        x = np.random.normal(i, 0.02, len(y))\n",
    "        plt.plot(x, y, 'r.', alpha=0.5)"
   ]
  },
  {
   "cell_type": "code",
   "execution_count": 537,
   "metadata": {
    "collapsed": false
   },
   "outputs": [
    {
     "data": {
      "image/png": "[encoded data removed]",
      "text/plain": [
       "<matplotlib.figure.Figure at 0x7f200eae4b10>"
      ]
     },
     "metadata": {},
     "output_type": "display_data"
    }
   ],
   "source": [
    "plotit(85, 7500000)"
   ]
  },
  {
   "cell_type": "code",
   "execution_count": 536,
   "metadata": {
    "collapsed": false
   },
   "outputs": [
    {
     "data": {
      "text/plain": [
       "[85]"
      ]
     },
     "execution_count": 536,
     "metadata": {},
     "output_type": "execute_result"
    }
   ],
   "source": [
    "[met1.index(i) for i in met1 if i[0] == 'eryth-D']"
   ]
  },
  {
   "cell_type": "markdown",
   "metadata": {},
   "source": [
    "55, 56, 65, 85, 99, 102, 110, 121, 123, 124, 125, 158, 159, 161, 162, 190, 211, 212 seem potentially interesting, in  \n",
    "that wk6 and ymt16 look more 'alike' than to wk16 and smt16"
   ]
  },
  {
   "cell_type": "code",
   "execution_count": 538,
   "metadata": {
    "collapsed": false
   },
   "outputs": [
    {
     "data": {
      "text/plain": [
       "['asn-L',\n",
       " 'asn-L',\n",
       " '\"citrcon;itacon\"',\n",
       " 'eryth-D',\n",
       " 'gln-L',\n",
       " 'glu-L',\n",
       " 'glyb',\n",
       " 'gthox',\n",
       " 'gudac',\n",
       " 'hom-L',\n",
       " 'hom-L',\n",
       " 'mind3ac',\n",
       " '\"mind3ac;\"',\n",
       " '\"mnl;sbt-D;galt;\"',\n",
       " 'nac',\n",
       " 'succ',\n",
       " 'uri',\n",
       " '\"uri;\"']"
      ]
     },
     "execution_count": 538,
     "metadata": {},
     "output_type": "execute_result"
    }
   ],
   "source": [
    "eyeballing = [55, 56, 65, 85, 99, 102, 110, 121, 123, 124, 125, 158, 159, 161, 162, 190, 211, 212]\n",
    "[met1[i][0] for i in eyeballing ]"
   ]
  },
  {
   "cell_type": "markdown",
   "metadata": {},
   "source": [
    "These above seem interesting based on eyeballing"
   ]
  },
  {
   "cell_type": "markdown",
   "metadata": {},
   "source": [
    "I can try to run a **regression** with median lifespan for each group.  \n",
    "The median lifespan for wt, smt and ymt are: 110, 107, 151"
   ]
  },
  {
   "cell_type": "code",
   "execution_count": 565,
   "metadata": {
    "collapsed": false
   },
   "outputs": [
    {
     "data": {
      "image/png": "[encoded data removed]",
      "text/plain": [
       "<matplotlib.figure.Figure at 0x7f200ec73910>"
      ]
     },
     "metadata": {},
     "output_type": "display_data"
    }
   ],
   "source": [
    "j = 1\n",
    "wk16 = [met1[0].index(i) for i in met1[0][1:] if kdict[i] == '16wk']\n",
    "smt16 = [met1[0].index(i) for i in met1[0][1:] if kdict[i] == 'smt_16wk']\n",
    "ymt16 = [met1[0].index(i) for i in met1[0][1:] if kdict[i] == 'ymt_16wk']\n",
    "\n",
    "med = [110, 107, 151]\n",
    "\n",
    "wk16_ = np.array([int(met1[j][i]) for i in wk16 ])\n",
    "smt16_ = np.array([int(met1[j][i]) for i in smt16 ])\n",
    "ymt16_ = np.array([int(met1[j][i]) for i in ymt16 ])\n",
    "data = [wk16_, smt16_, ymt16_]\n",
    "y = [np.mean(i) for i in data ]\n",
    "\n",
    "plt.scatter(med, y)\n",
    "plt.show()"
   ]
  },
  {
   "cell_type": "code",
   "execution_count": 566,
   "metadata": {
    "collapsed": false
   },
   "outputs": [],
   "source": [
    "def regrit(j):\n",
    "    wk16 = [met1[0].index(i) for i in met1[0][1:] if kdict[i] == '16wk']\n",
    "    smt16 = [met1[0].index(i) for i in met1[0][1:] if kdict[i] == 'smt_16wk']\n",
    "    ymt16 = [met1[0].index(i) for i in met1[0][1:] if kdict[i] == 'ymt_16wk']\n",
    "\n",
    "    wk16_ = np.array([int(met1[j][i]) for i in wk16 ])\n",
    "    smt16_ = np.array([int(met1[j][i]) for i in smt16 ])\n",
    "    ymt16_ = np.array([int(met1[j][i]) for i in ymt16 ])\n",
    "\n",
    "    data = [wk16_, smt16_, ymt16_]\n",
    "    y = [np.mean(i) for i in data ]\n",
    "    med = [110, 107, 151]\n",
    "    \n",
    "    plt.scatter(med, y)\n",
    "    plt.show()"
   ]
  },
  {
   "cell_type": "raw",
   "metadata": {},
   "source": [
    "regrit(10)"
   ]
  },
  {
   "cell_type": "code",
   "execution_count": null,
   "metadata": {
    "collapsed": true
   },
   "outputs": [],
   "source": []
  }
 ],
 "metadata": {
  "kernelspec": {
   "display_name": "Python 2",
   "language": "python",
   "name": "python2"
  },
  "language_info": {
   "codemirror_mode": {
    "name": "ipython",
    "version": 2
   },
   "file_extension": ".py",
   "mimetype": "text/x-python",
   "name": "python",
   "nbconvert_exporter": "python",
   "pygments_lexer": "ipython2",
   "version": "2.7.9"
  }
 },
 "nbformat": 4,
 "nbformat_minor": 0
}

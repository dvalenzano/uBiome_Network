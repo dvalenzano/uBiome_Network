{
 "cells": [
  {
   "cell_type": "code",
   "execution_count": 1,
   "metadata": {
    "collapsed": true
   },
   "outputs": [],
   "source": [
    "import numpy as np\n",
    "import matplotlib\n",
    "%matplotlib inline\n",
    "import matplotlib.pyplot as plt"
   ]
  },
  {
   "cell_type": "code",
   "execution_count": 2,
   "metadata": {
    "collapsed": true
   },
   "outputs": [],
   "source": [
    "data = open('../data/gene_exp.diff', 'rU').read()\n",
    "dataa = np.array([i.split('\\t') for i in data.split('\\n')[:-1]])\n",
    "datal = [i.split('\\t') for i in data.split('\\n')[:-1]][:-1]"
   ]
  },
  {
   "cell_type": "code",
   "execution_count": 38,
   "metadata": {
    "collapsed": false
   },
   "outputs": [],
   "source": [
    "datal2 = [datal[0]]+[i for i in datal[1:] if i[6] == 'OK']\n",
    "datal3 = [i for i in datal2[1:] if i[-5] != 'inf']\n",
    "datal4 = [i for i in datal3[1:] if i[-5] != '-inf']"
   ]
  },
  {
   "cell_type": "code",
   "execution_count": 43,
   "metadata": {
    "collapsed": false
   },
   "outputs": [],
   "source": [
    "datal5 = sorted(datal4[1:], key=lambda x: (float(x[-5])))"
   ]
  },
  {
   "cell_type": "code",
   "execution_count": 42,
   "metadata": {
    "collapsed": false
   },
   "outputs": [
    {
     "data": {
      "text/plain": [
       "[['NF_823147',\n",
       "  'NF_823147',\n",
       "  'BX005380.2(249of616)-mRNA-1',\n",
       "  'GapFilledScaffold_1237:71229-71562',\n",
       "  'smt',\n",
       "  'ymt',\n",
       "  'OK',\n",
       "  '1.29256',\n",
       "  '1.77589e-05',\n",
       "  '-16.1513',\n",
       "  '-0.000408062',\n",
       "  '0.2302',\n",
       "  '0.998116',\n",
       "  'no'],\n",
       " ['NF_225174',\n",
       "  'NF_225174',\n",
       "  'SYT1(1of2)-mRNA-1',\n",
       "  'GapFilledScaffold_40:326226-331927',\n",
       "  'smt',\n",
       "  'ymt',\n",
       "  'OK',\n",
       "  '3.24231',\n",
       "  '0.0303375',\n",
       "  '-6.73978',\n",
       "  '-2.18711',\n",
       "  '0.1466',\n",
       "  '0.998116',\n",
       "  'no'],\n",
       " ['NF_366772',\n",
       "  'NF_366772',\n",
       "  'PEF1-mRNA-1',\n",
       "  'GapFilledScaffold_4359:34869-41991',\n",
       "  'smt',\n",
       "  'ymt',\n",
       "  'OK',\n",
       "  '2.36017',\n",
       "  '0.0259643',\n",
       "  '-6.50622',\n",
       "  '-1.18367',\n",
       "  '0.06035',\n",
       "  '0.973697',\n",
       "  'no'],\n",
       " ['NF_902555',\n",
       "  'NF_902555',\n",
       "  'FBXO2(2of2)-mRNA-1',\n",
       "  'GapFilledScaffold_6418:1126-17793',\n",
       "  'smt',\n",
       "  'ymt',\n",
       "  'OK',\n",
       "  '27.3711',\n",
       "  '0.422786',\n",
       "  '-6.01658',\n",
       "  '-5.66675',\n",
       "  '5e-05',\n",
       "  '0.00460466',\n",
       "  'yes'],\n",
       " ['NF_118597',\n",
       "  'NF_118597',\n",
       "  'DIO3(3of3)-mRNA-1',\n",
       "  'GapFilledScaffold_3655:121792-122194',\n",
       "  'smt',\n",
       "  'ymt',\n",
       "  'OK',\n",
       "  '39.4462',\n",
       "  '0.824741',\n",
       "  '-5.5798',\n",
       "  '-4.35699',\n",
       "  '0.00495',\n",
       "  '0.200422',\n",
       "  'no'],\n",
       " ['NF_981057',\n",
       "  'NF_981057',\n",
       "  'NFURLNR03105021000-RNA-1',\n",
       "  'GapFilledScaffold_3105:28710-38677',\n",
       "  'smt',\n",
       "  'ymt',\n",
       "  'OK',\n",
       "  '1.90958',\n",
       "  '0.0404033',\n",
       "  '-5.56264',\n",
       "  '-0.11184',\n",
       "  '0.3793',\n",
       "  '0.998116',\n",
       "  'no'],\n",
       " ['NF_118591',\n",
       "  'NF_118591',\n",
       "  'DIO3(1of3)-mRNA-1',\n",
       "  'GapFilledScaffold_3655:122203-122599',\n",
       "  'smt',\n",
       "  'ymt',\n",
       "  'OK',\n",
       "  '31.0188',\n",
       "  '0.779896',\n",
       "  '-5.31372',\n",
       "  '-3.71114',\n",
       "  '0.00215',\n",
       "  '0.101233',\n",
       "  'no'],\n",
       " ['NF_320290',\n",
       "  'NF_320290',\n",
       "  'TBP(1of2)-mRNA-1',\n",
       "  'GapFilledScaffold_1468:96926-101261',\n",
       "  'smt',\n",
       "  'ymt',\n",
       "  'OK',\n",
       "  '1.15534',\n",
       "  '0.0291412',\n",
       "  '-5.30911',\n",
       "  '-0.926056',\n",
       "  '0.059',\n",
       "  '0.973697',\n",
       "  'no'],\n",
       " ['NF_389876',\n",
       "  'NF_389876',\n",
       "  'HAMP2(1of2)-mRNA-1',\n",
       "  'GapFilledScaffold_5812:14411-15188',\n",
       "  'smt',\n",
       "  'ymt',\n",
       "  'OK',\n",
       "  '2.28947',\n",
       "  '0.0610947',\n",
       "  '-5.22782',\n",
       "  '-1.10717',\n",
       "  '0.06035',\n",
       "  '0.973697',\n",
       "  'no'],\n",
       " ['NF_518958',\n",
       "  'NF_518958',\n",
       "  'SI:DKEYP-113D7.1(3of6)-mRNA-1',\n",
       "  'GapFilledScaffold_4210:6721-60353',\n",
       "  'smt',\n",
       "  'ymt',\n",
       "  'OK',\n",
       "  '2.70222',\n",
       "  '0.0804636',\n",
       "  '-5.06967',\n",
       "  '-1.78857',\n",
       "  '0.2632',\n",
       "  '0.998116',\n",
       "  'no']]"
      ]
     },
     "execution_count": 42,
     "metadata": {},
     "output_type": "execute_result"
    }
   ],
   "source": []
  },
  {
   "cell_type": "code",
   "execution_count": 25,
   "metadata": {
    "collapsed": false
   },
   "outputs": [
    {
     "ename": "ValueError",
     "evalue": "could not convert string to float: ci",
     "output_type": "error",
     "traceback": [
      "\u001b[0;31m\u001b[0m",
      "\u001b[0;31mValueError\u001b[0mTraceback (most recent call last)",
      "\u001b[0;32m<ipython-input-25-e400f3932ad4>\u001b[0m in \u001b[0;36m<module>\u001b[0;34m()\u001b[0m\n\u001b[0;32m----> 1\u001b[0;31m \u001b[0mfloat\u001b[0m\u001b[0;34m(\u001b[0m\u001b[0;34m'ci'\u001b[0m\u001b[0;34m)\u001b[0m\u001b[0;34m\u001b[0m\u001b[0m\n\u001b[0m",
      "\u001b[0;31mValueError\u001b[0m: could not convert string to float: ci"
     ]
    }
   ],
   "source": []
  },
  {
   "cell_type": "code",
   "execution_count": null,
   "metadata": {
    "collapsed": true
   },
   "outputs": [],
   "source": []
  }
 ],
 "metadata": {
  "kernelspec": {
   "display_name": "Python 2",
   "language": "python",
   "name": "python2"
  },
  "language_info": {
   "codemirror_mode": {
    "name": "ipython",
    "version": 2
   },
   "file_extension": ".py",
   "mimetype": "text/x-python",
   "name": "python",
   "nbconvert_exporter": "python",
   "pygments_lexer": "ipython2",
   "version": "2.7.9"
  }
 },
 "nbformat": 4,
 "nbformat_minor": 1
}

{
 "cells": [
  {
   "cell_type": "markdown",
   "metadata": {},
   "source": [
    "## Goal: to generate boxplots for the rarefaction curves relative to the transfer groups in the microbiome paper ##"
   ]
  },
  {
   "cell_type": "markdown",
   "metadata": {},
   "source": [
    "I will focus on observed species and Shannon index"
   ]
  },
  {
   "cell_type": "code",
   "execution_count": 6,
   "metadata": {
    "collapsed": false
   },
   "outputs": [],
   "source": [
    "os = open('../data/observed_species.txt', 'rU').read()\n",
    "oss = os.replace('\\t', ',').split('\\n')\n",
    "oss_2 = [oss[0]] + [i for i in oss if i.split(',')[1]=='5500']"
   ]
  },
  {
   "cell_type": "code",
   "execution_count": 8,
   "metadata": {
    "collapsed": false
   },
   "outputs": [],
   "source": [
    "sh = open('../data/shannon.txt', 'rU').read()\n",
    "shs = sh.replace('\\t', ',').split('\\n')\n",
    "shs_2 = [shs[0]] + [i for i in shs if i.split(',')[1]=='5500']"
   ]
  },
  {
   "cell_type": "markdown",
   "metadata": {},
   "source": [
    "Above, I selected the data with > 5500 depth"
   ]
  },
  {
   "cell_type": "markdown",
   "metadata": {},
   "source": [
    "Now, I transpose the matrix"
   ]
  },
  {
   "cell_type": "code",
   "execution_count": 10,
   "metadata": {
    "collapsed": true
   },
   "outputs": [],
   "source": [
    "import numpy as np"
   ]
  },
  {
   "cell_type": "code",
   "execution_count": 12,
   "metadata": {
    "collapsed": false
   },
   "outputs": [],
   "source": [
    "osa = np.array([i.split(',') for i in oss_2])\n",
    "sha = np.array([i.split(',') for i in shs_2])"
   ]
  },
  {
   "cell_type": "code",
   "execution_count": 16,
   "metadata": {
    "collapsed": true
   },
   "outputs": [],
   "source": [
    "osa_t = osa.transpose()[3:]\n",
    "sha_t = sha.transpose()[3:]"
   ]
  },
  {
   "cell_type": "code",
   "execution_count": 67,
   "metadata": {
    "collapsed": false
   },
   "outputs": [],
   "source": [
    "osa_t2 = 'group0,group1,abundance\\n'+','.join([','.join([ i[0].split('.')[0]+','+i[0]+','+j+'\\n' for j in i[1:]]) for i in osa_t ]).replace('\\n,','\\n')\n",
    "sha_t2 = 'group0,group1,abundance\\n'+','.join([','.join([ i[0].split('.')[0]+','+i[0]+','+j+'\\n' for j in i[1:]]) for i in sha_t ]).replace('\\n,','\\n')"
   ]
  },
  {
   "cell_type": "code",
   "execution_count": 49,
   "metadata": {
    "collapsed": false
   },
   "outputs": [],
   "source": [
    "osa_t_sm = [[i[0]]+[np.mean(map(float, i[1:]))] for i in osa_t[1:]]\n",
    "sha_t_sm = [[i[0]]+[np.mean(map(float, i[1:]))] for i in sha_t[1:]]"
   ]
  },
  {
   "cell_type": "code",
   "execution_count": 50,
   "metadata": {
    "collapsed": false
   },
   "outputs": [],
   "source": [
    "osa_t_sm2 = 'group0,group1,abundance\\n'+','.join([ i[0].split('.')[0]+','+i[0]+','+str(i[1])+'\\n' for i in osa_t_sm ]).replace('\\n,','\\n')[:-1]\n",
    "sha_t_sm2 = 'group0,group1,abundance\\n'+','.join([ i[0].split('.')[0]+','+i[0]+','+str(i[1])+'\\n' for i in sha_t_sm ]).replace('\\n,','\\n')[:-1]"
   ]
  },
  {
   "cell_type": "markdown",
   "metadata": {},
   "source": [
    "this below will generate the R input files"
   ]
  },
  {
   "cell_type": "code",
   "execution_count": 68,
   "metadata": {
    "collapsed": false
   },
   "outputs": [],
   "source": [
    "z = open('../data/observed_5500_all.csv', 'w')\n",
    "z.write(osa_t2)\n",
    "z.close()\n",
    "\n",
    "z = open('../data/observed_5500_small.csv', 'w')\n",
    "z.write(osa_t_sm2)\n",
    "z.close()\n",
    "\n",
    "z = open('../data/shannon_5500_all.csv', 'w')\n",
    "z.write(sha_t2)\n",
    "z.close()\n",
    "\n",
    "z = open('../data/shannon_5500_small.csv', 'w')\n",
    "z.write(sha_t_sm2)\n",
    "z.close()"
   ]
  },
  {
   "cell_type": "code",
   "execution_count": null,
   "metadata": {
    "collapsed": true
   },
   "outputs": [],
   "source": []
  }
 ],
 "metadata": {
  "kernelspec": {
   "display_name": "Python 2",
   "language": "python",
   "name": "python2"
  },
  "language_info": {
   "codemirror_mode": {
    "name": "ipython",
    "version": 2
   },
   "file_extension": ".py",
   "mimetype": "text/x-python",
   "name": "python",
   "nbconvert_exporter": "python",
   "pygments_lexer": "ipython2",
   "version": "2.7.9"
  }
 },
 "nbformat": 4,
 "nbformat_minor": 0
}

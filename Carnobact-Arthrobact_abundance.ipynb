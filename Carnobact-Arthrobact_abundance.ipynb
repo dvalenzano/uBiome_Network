{
 "cells": [
  {
   "cell_type": "code",
   "execution_count": 49,
   "metadata": {
    "collapsed": false
   },
   "outputs": [],
   "source": [
    "inp = open('../data/table_mc5509_sorted_L6_wt6_wt16_ym16_sm16_abx16_lefse_in.txt', 'rU').read()"
   ]
  },
  {
   "cell_type": "code",
   "execution_count": 50,
   "metadata": {
    "collapsed": false
   },
   "outputs": [],
   "source": [
    "inps = inp.replace('\\t',',').split('\\n')"
   ]
  },
  {
   "cell_type": "code",
   "execution_count": 51,
   "metadata": {
    "collapsed": false
   },
   "outputs": [
    {
     "data": {
      "text/plain": [
       "'Taxon,ABX16,ABX16,ABX16,ABX16,ABX16,ABX16,SM16,SM16,SM16,SM16,SM16,WT16,WT16,WT16,WT16,WT16,WT16,WT16,WT16,WT6,WT6,WT6,WT6,WT6,WT6,WT6,WT6,WT6,WT6,WT6,YM16,YM16,YM16,YM16,YM16,YM16,YM16,YM16'"
      ]
     },
     "execution_count": 51,
     "metadata": {},
     "output_type": "execute_result"
    }
   ],
   "source": [
    "carn = [i for i in inps if 'Carnobacterium' in i]\n",
    "arth = [i for i in inps if 'Arthrobacter' in i]\n",
    "inps[0]"
   ]
  },
  {
   "cell_type": "code",
   "execution_count": 37,
   "metadata": {
    "collapsed": false
   },
   "outputs": [],
   "source": [
    "import numpy as np\n",
    "tab = inps[0]+'\\ncarn,'+','.join(carn[0].split(',')[1:])+'\\narthr,'+','.join(arth[0].split(',')[1:])"
   ]
  },
  {
   "cell_type": "code",
   "execution_count": 43,
   "metadata": {
    "collapsed": false
   },
   "outputs": [],
   "source": [
    "tabl = np.array([i.split(',') for i in tab.split('\\n')])\n",
    "tabt = tabl.transpose()"
   ]
  },
  {
   "cell_type": "code",
   "execution_count": 46,
   "metadata": {
    "collapsed": false
   },
   "outputs": [],
   "source": [
    "tabtl = [ ','.join(i)+'\\n' for i in tabt ]\n",
    "tabtll = ','.join(tabtl).replace('\\n,','\\n')[:-1]"
   ]
  },
  {
   "cell_type": "code",
   "execution_count": 47,
   "metadata": {
    "collapsed": false
   },
   "outputs": [],
   "source": [
    "z = open('../data/carn_arthr.csv','w')\n",
    "z.write(tabtll)\n",
    "z.close()"
   ]
  },
  {
   "cell_type": "markdown",
   "metadata": {
    "collapsed": true
   },
   "source": [
    "I am not sure what each number represents in this table. I am going to add up all numbers per each column and then for the whole matrix"
   ]
  },
  {
   "cell_type": "code",
   "execution_count": 60,
   "metadata": {
    "collapsed": false
   },
   "outputs": [
    {
     "data": {
      "text/plain": [
       "0.999999758"
      ]
     },
     "execution_count": 60,
     "metadata": {},
     "output_type": "execute_result"
    }
   ],
   "source": [
    "col2 = [i.split(',')[1] for i in inps[:-1]]\n",
    "col2_0 = [ float(i) for i in col2[1:] ]\n",
    "sum(col2_0)"
   ]
  },
  {
   "cell_type": "markdown",
   "metadata": {},
   "source": [
    "Ok, then the values represent the relative individual abundance"
   ]
  },
  {
   "cell_type": "code",
   "execution_count": null,
   "metadata": {
    "collapsed": true
   },
   "outputs": [],
   "source": []
  }
 ],
 "metadata": {
  "kernelspec": {
   "display_name": "Python 2",
   "language": "python",
   "name": "python2"
  },
  "language_info": {
   "codemirror_mode": {
    "name": "ipython",
    "version": 2
   },
   "file_extension": ".py",
   "mimetype": "text/x-python",
   "name": "python",
   "nbconvert_exporter": "python",
   "pygments_lexer": "ipython2",
   "version": "2.7.9"
  }
 },
 "nbformat": 4,
 "nbformat_minor": 0
}

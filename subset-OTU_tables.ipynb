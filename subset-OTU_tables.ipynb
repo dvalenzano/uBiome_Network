{
 "cells": [
  {
   "cell_type": "code",
   "execution_count": 1,
   "metadata": {
    "collapsed": true
   },
   "outputs": [],
   "source": [
    "tab = open('../data/otu_table_mc5_w_tax_no_pynast_failures.txt', 'rU').read()"
   ]
  },
  {
   "cell_type": "markdown",
   "metadata": {},
   "source": [
    "Below, I define two new lists, one corresponding to the header, and the other to the data matrix "
   ]
  },
  {
   "cell_type": "code",
   "execution_count": 50,
   "metadata": {
    "collapsed": false
   },
   "outputs": [],
   "source": [
    "header = tab.split('\\n')[:2]\n",
    "tab_r3 = tab.split('\\n')[2:-1] # the '-1' thing ensures that I do not process the empty line at the end\n",
    "# remove rows containing 'Unassigned'\n",
    "tab_r3 = [i for i in tab_r3 if 'Unassigned' not in i]"
   ]
  },
  {
   "cell_type": "markdown",
   "metadata": {},
   "source": [
    "Below: for each row in tab_r3, split by '\\t' and then split the last string by '; '"
   ]
  },
  {
   "cell_type": "code",
   "execution_count": 51,
   "metadata": {
    "collapsed": false
   },
   "outputs": [],
   "source": [
    "# Standard way:\n",
    "tab_r3_1 = []\n",
    "for i in tab_r3:\n",
    "    tab_r3_1.append(i.split('\\t')[:-1] + i.split('\\t')[-1].split('; '))    \n",
    "#tab_r3[0].split('\\t')[:-1] + tab_r3[0].split('\\t')[-1].split('; ')"
   ]
  },
  {
   "cell_type": "code",
   "execution_count": 52,
   "metadata": {
    "collapsed": true
   },
   "outputs": [],
   "source": [
    "# Same as above, using list comprehension:\n",
    "tab_r3_2 = [i.split('\\t')[:-1] + i.split('\\t')[-1].split('; ') for i in tab_r3]"
   ]
  },
  {
   "cell_type": "code",
   "execution_count": 53,
   "metadata": {
    "collapsed": true
   },
   "outputs": [],
   "source": [
    "tab_r3_3 = []\n",
    "for i in tab_r3_2:\n",
    "    if len(i) == 89:\n",
    "        tab_r3_3.append(i)\n",
    "    elif len(i) == 88:\n",
    "        tab_r3_3.append(i+['s__'])\n",
    "    elif len(i) == 87:\n",
    "        tab_r3_3.append(i+['g__','s__'])\n",
    "    elif len(i) == 86:\n",
    "        tab_r3_3.append(i+['f__', 'g__','s__'])\n",
    "    elif len(i) == 85:\n",
    "        tab_r3_3.append(i+['o__', 'f__', 'g__','s__'])\n",
    "    elif len(i) == 84:\n",
    "        tab_r3_3.append(i+['c__', 'o__','f__', 'g__','s__'])\n",
    "    elif len(i) == 83:\n",
    "        tab_r3_3.append(i+['p__', 'c__', 'o__', 'f__', 'g__','s__'])"
   ]
  },
  {
   "cell_type": "code",
   "execution_count": 54,
   "metadata": {
    "collapsed": false
   },
   "outputs": [
    {
     "data": {
      "text/plain": [
       "89"
      ]
     },
     "execution_count": 54,
     "metadata": {},
     "output_type": "execute_result"
    }
   ],
   "source": [
    "# Test if we got all the row sizes right\n",
    "min([len(i) for i in tab_r3_3])"
   ]
  },
  {
   "cell_type": "code",
   "execution_count": 57,
   "metadata": {
    "collapsed": false
   },
   "outputs": [],
   "source": [
    "# Now we want to sort the data matrix\n",
    "tab_r3s = sorted(tab_r3_3, key=lambda x: (x[-7], x[-6], x[-5], x[-4], x[-3], x[-2], x[-1]))"
   ]
  },
  {
   "cell_type": "code",
   "execution_count": 70,
   "metadata": {
    "collapsed": false
   },
   "outputs": [],
   "source": [
    "tab_r3s2 = [','.join(i[:-7]).replace(',','\\t')+'\\t'+','.join(i[-7:]).replace(',','; ')+'\\n' for i in tab_r3s]"
   ]
  },
  {
   "cell_type": "code",
   "execution_count": 79,
   "metadata": {
    "collapsed": false
   },
   "outputs": [],
   "source": [
    "tab_r3s3 = ','.join([i+'\\n' for i in header]).replace('\\n,','\\n') + ','.join(tab_r3s2).replace('\\n,','\\n')[:-1]"
   ]
  },
  {
   "cell_type": "code",
   "execution_count": 80,
   "metadata": {
    "collapsed": false
   },
   "outputs": [],
   "source": [
    "z = open('../data/otu_table_mc5_w_tax_no_pynast_failures_sorted.txt', 'w')\n",
    "z.write(tab_r3s3)\n",
    "z.close()"
   ]
  },
  {
   "cell_type": "markdown",
   "metadata": {},
   "source": [
    "Goal: Now we want to sum up OTU values for individuals that have the same \"Class\""
   ]
  },
  {
   "cell_type": "code",
   "execution_count": 81,
   "metadata": {
    "collapsed": false
   },
   "outputs": [],
   "source": [
    "tab_cl = tab_r3s3.split('\\n')[2:]"
   ]
  },
  {
   "cell_type": "code",
   "execution_count": 83,
   "metadata": {
    "collapsed": false
   },
   "outputs": [
    {
     "data": {
      "text/plain": [
       "'Archaea; p__Euryarchaeota; c__Halobacteria'"
      ]
     },
     "execution_count": 83,
     "metadata": {},
     "output_type": "execute_result"
    }
   ],
   "source": [
    "tab_cl[0].split('k__')[1].split('; o__')[0]"
   ]
  },
  {
   "cell_type": "code",
   "execution_count": null,
   "metadata": {
    "collapsed": true
   },
   "outputs": [],
   "source": []
  }
 ],
 "metadata": {
  "kernelspec": {
   "display_name": "Python 2",
   "language": "python",
   "name": "python2"
  },
  "language_info": {
   "codemirror_mode": {
    "name": "ipython",
    "version": 2
   },
   "file_extension": ".py",
   "mimetype": "text/x-python",
   "name": "python",
   "nbconvert_exporter": "python",
   "pygments_lexer": "ipython2",
   "version": "2.7.9"
  }
 },
 "nbformat": 4,
 "nbformat_minor": 0
}
